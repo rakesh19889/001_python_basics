{
 "cells": [
  {
   "cell_type": "markdown",
   "id": "2f630641-29fc-4dc8-a625-52474c5a9d8f",
   "metadata": {},
   "source": [
    "# What is Python?\n",
    "1)Python is a set of instructions that we give in the form of a Program to our computer to perform any specific task. It is a Programming language having properties like it is interpreted, object-oriented and it is high-level too.\n",
    "\n",
    "2)Python is one of the easiest yet most useful programming languages which is widely used in the software industry. People use Python for Competitive Programming, Web Development, and creating software.\n"
   ]
  },
  {
   "cell_type": "markdown",
   "id": "d0250209-8337-487d-90ab-a48684265e04",
   "metadata": {},
   "source": [
    "# History of Python?\n",
    "\n",
    "*Python was created in 1980s by Guido van Rossum. During his research at the National Research Institute for Mathematics and Computer Science in the Netherlands.he created Python – a super easy programming language in terms of reading and usage. The first ever version was released in the year 1991 which had only a few built-in data types and basic functionality.*\n",
    "\n",
    "*Later, when it gained popularity among scientists for numerical computations and data analysis, in 1994, Python 1.0 was released with extra features like map, lambda, and filter functions. After that adding new functionalities and releasing newer versions of Python came into fashion.* \n",
    "\n",
    "*Python 1.5 released in 1997*\n",
    "\n",
    "*Python 2.0 released in 2000*\n",
    "\n",
    "*Python 3.0 in 2008 brought newer functionalities*"
   ]
  },
  {
   "cell_type": "markdown",
   "id": "989b9332-206d-4ae8-969d-04caf416d11c",
   "metadata": {},
   "source": [
    "# Why Python?\n",
    "\r\n",
    "Python works on different platforms (Windows, Mac, Linux, Raspberry Pi, etc)\n",
    "\n",
    "\r\n",
    "Python has a simple syntax similar to the English languag \n",
    "\n",
    ".\r\n",
    "Python has syntax that allows developers to write programs with fewer lines than some other programming languages.asier."
   ]
  },
  {
   "cell_type": "markdown",
   "id": "23159686-af84-44cd-a3b6-8920e6d4a022",
   "metadata": {},
   "source": [
    "# comment with example"
   ]
  },
  {
   "cell_type": "code",
   "execution_count": 72,
   "id": "e36fe09d-bb77-4819-a0b4-5abfb3308559",
   "metadata": {},
   "outputs": [],
   "source": [
    "# This is rakesh "
   ]
  },
  {
   "cell_type": "markdown",
   "id": "8f1aadb5-e274-48c9-8390-1161c7e65ffa",
   "metadata": {},
   "source": [
    "# keywords with example"
   ]
  },
  {
   "cell_type": "code",
   "execution_count": 76,
   "id": "81e7976f-ab9a-43c3-8739-bac1892bcd2a",
   "metadata": {},
   "outputs": [
    {
     "name": "stdout",
     "output_type": "stream",
     "text": [
      "['False', 'None', 'True', 'and', 'as', 'assert', 'async', 'await', 'break', 'class', 'continue', 'def', 'del', 'elif', 'else', 'except', 'finally', 'for', 'from', 'global', 'if', 'import', 'in', 'is', 'lambda', 'nonlocal', 'not', 'or', 'pass', 'raise', 'return', 'try', 'while', 'with', 'yield']\n"
     ]
    }
   ],
   "source": [
    "import keyword\n",
    "print(keyword.kwlist)"
   ]
  },
  {
   "cell_type": "code",
   "execution_count": 78,
   "id": "65fd7066-9ed5-4c16-a852-a4fa2f3858fb",
   "metadata": {},
   "outputs": [
    {
     "name": "stdout",
     "output_type": "stream",
     "text": [
      "\n",
      "Here is a list of the Python keywords.  Enter any keyword to get more help.\n",
      "\n",
      "False               class               from                or\n",
      "None                continue            global              pass\n",
      "True                def                 if                  raise\n",
      "and                 del                 import              return\n",
      "as                  elif                in                  try\n",
      "assert              else                is                  while\n",
      "async               except              lambda              with\n",
      "await               finally             nonlocal            yield\n",
      "break               for                 not                 \n",
      "\n"
     ]
    }
   ],
   "source": [
    "help(\"keywords\")"
   ]
  },
  {
   "cell_type": "code",
   "execution_count": 80,
   "id": "41a2bd62-68f9-4e97-a408-47b24c6d219d",
   "metadata": {},
   "outputs": [
    {
     "name": "stdout",
     "output_type": "stream",
     "text": [
      "True\n",
      "False\n"
     ]
    }
   ],
   "source": [
    "import keyword\n",
    "\n",
    "print(keyword.iskeyword('if'))\n",
    "print(keyword.iskeyword('range'))"
   ]
  },
  {
   "cell_type": "code",
   "execution_count": 82,
   "id": "6cd3ea1c-f0ac-4817-b2d4-471ac80729b7",
   "metadata": {},
   "outputs": [
    {
     "name": "stdout",
     "output_type": "stream",
     "text": [
      "The \"if\" statement\n",
      "******************\n",
      "\n",
      "The \"if\" statement is used for conditional execution:\n",
      "\n",
      "   if_stmt ::= \"if\" assignment_expression \":\" suite\n",
      "               (\"elif\" assignment_expression \":\" suite)*\n",
      "               [\"else\" \":\" suite]\n",
      "\n",
      "It selects exactly one of the suites by evaluating the expressions one\n",
      "by one until one is found to be true (see section Boolean operations\n",
      "for the definition of true and false); then that suite is executed\n",
      "(and no other part of the \"if\" statement is executed or evaluated).\n",
      "If all expressions are false, the suite of the \"else\" clause, if\n",
      "present, is executed.\n",
      "\n",
      "Related help topics: TRUTHVALUE\n",
      "\n",
      "None\n"
     ]
    }
   ],
   "source": [
    "print(help('if'))"
   ]
  },
  {
   "cell_type": "markdown",
   "id": "3ad335cd-3ef7-433c-82d9-05c108300923",
   "metadata": {
    "jp-MarkdownHeadingCollapsed": true
   },
   "source": [
    "# Rules\n",
    "- AlaphaNum Characters{A-Z,a-z,0-9}\n",
    "- can't use digits at starting\n",
    "- can't use special to variables, expect'_'\n",
    "- can't use Keywords\n",
    "- case sentiments"
   ]
  },
  {
   "cell_type": "markdown",
   "id": "b8c07454-0a75-45d8-914f-98678219f07b",
   "metadata": {},
   "source": [
    "# Variables\n",
    "### Valid Examples"
   ]
  },
  {
   "cell_type": "code",
   "execution_count": 87,
   "id": "1c331972-42e4-438e-b8cf-6f91b975f59a",
   "metadata": {},
   "outputs": [
    {
     "name": "stdout",
     "output_type": "stream",
     "text": [
      "2\n"
     ]
    }
   ],
   "source": [
    "a=2\n",
    "print(a)"
   ]
  },
  {
   "cell_type": "code",
   "execution_count": 89,
   "id": "2aff3f36-36ee-4a63-8585-c53714f85693",
   "metadata": {},
   "outputs": [
    {
     "name": "stdout",
     "output_type": "stream",
     "text": [
      "23\n"
     ]
    }
   ],
   "source": [
    "var=23\n",
    "print(var)"
   ]
  },
  {
   "cell_type": "code",
   "execution_count": 91,
   "id": "e3038928-71bb-4f63-8443-ca834944c70a",
   "metadata": {},
   "outputs": [
    {
     "name": "stdout",
     "output_type": "stream",
     "text": [
      "654\n"
     ]
    }
   ],
   "source": [
    "_acb=654\n",
    "print(_acb)"
   ]
  },
  {
   "cell_type": "code",
   "execution_count": 94,
   "id": "6e48a6c0-0afc-4298-bb2e-12c77685221e",
   "metadata": {},
   "outputs": [
    {
     "name": "stdout",
     "output_type": "stream",
     "text": [
      "123\n"
     ]
    }
   ],
   "source": [
    "IF=123\n",
    "print(IF)"
   ]
  },
  {
   "cell_type": "code",
   "execution_count": 96,
   "id": "d72d6274-772d-492d-8702-ca251860a515",
   "metadata": {},
   "outputs": [
    {
     "name": "stdout",
     "output_type": "stream",
     "text": [
      "123\n"
     ]
    }
   ],
   "source": [
    "If=123\n",
    "print(If)"
   ]
  },
  {
   "cell_type": "code",
   "execution_count": 104,
   "id": "9229e9b5-5ae1-4925-a728-a2fe95b09edc",
   "metadata": {},
   "outputs": [
    {
     "name": "stdout",
     "output_type": "stream",
     "text": [
      "123\n"
     ]
    }
   ],
   "source": [
    "Ture=123\n",
    "print(Ture)"
   ]
  },
  {
   "cell_type": "code",
   "execution_count": 106,
   "id": "5a5509df-1fc0-4289-96a4-3989d0ec547a",
   "metadata": {},
   "outputs": [
    {
     "name": "stdout",
     "output_type": "stream",
     "text": [
      "890\n"
     ]
    }
   ],
   "source": [
    "a123=890\n",
    "print(a123)"
   ]
  },
  {
   "cell_type": "code",
   "execution_count": 108,
   "id": "f7a79b4b-0a04-4c8f-abe0-773d3cc19016",
   "metadata": {},
   "outputs": [
    {
     "name": "stdout",
     "output_type": "stream",
     "text": [
      "456\n"
     ]
    }
   ],
   "source": [
    "bv_1=456\n",
    "print(bv_1)"
   ]
  },
  {
   "cell_type": "code",
   "execution_count": 116,
   "id": "482c25ff-edcb-48de-95ec-4526c730eaff",
   "metadata": {},
   "outputs": [
    {
     "name": "stdout",
     "output_type": "stream",
     "text": [
      "456\n"
     ]
    }
   ],
   "source": [
    "boolen=456\n",
    "print(boolen)"
   ]
  },
  {
   "cell_type": "code",
   "execution_count": 121,
   "id": "dd26af43-d50f-4ca3-bf87-c45e1c722614",
   "metadata": {},
   "outputs": [
    {
     "name": "stdout",
     "output_type": "stream",
     "text": [
      "456\n"
     ]
    }
   ],
   "source": [
    "ture=456\n",
    "print(boolen)"
   ]
  },
  {
   "cell_type": "code",
   "execution_count": null,
   "id": "be5a56e1-9a56-44a5-ad30-26e9a33834e9",
   "metadata": {},
   "outputs": [],
   "source": []
  },
  {
   "cell_type": "markdown",
   "id": "899906de-86bb-44c8-8b4f-c7c9e4adbff6",
   "metadata": {},
   "source": [
    "### Invalid Examples"
   ]
  },
  {
   "cell_type": "code",
   "execution_count": 112,
   "id": "73c5fa0e-4fb0-4519-972c-e0502fb78fc8",
   "metadata": {},
   "outputs": [
    {
     "ename": "SyntaxError",
     "evalue": "invalid syntax (68666159.py, line 1)",
     "output_type": "error",
     "traceback": [
      "\u001b[1;36m  Cell \u001b[1;32mIn[112], line 1\u001b[1;36m\u001b[0m\n\u001b[1;33m    if=234\u001b[0m\n\u001b[1;37m      ^\u001b[0m\n\u001b[1;31mSyntaxError\u001b[0m\u001b[1;31m:\u001b[0m invalid syntax\n"
     ]
    }
   ],
   "source": [
    "if=234\n",
    "print(if)"
   ]
  },
  {
   "cell_type": "code",
   "execution_count": 110,
   "id": "69b3c89a-910f-49f3-9cba-b7514545e2f6",
   "metadata": {},
   "outputs": [
    {
     "ename": "SyntaxError",
     "evalue": "cannot assign to expression here. Maybe you meant '==' instead of '='? (799495340.py, line 1)",
     "output_type": "error",
     "traceback": [
      "\u001b[1;36m  Cell \u001b[1;32mIn[110], line 1\u001b[1;36m\u001b[0m\n\u001b[1;33m    _@gnm=345\u001b[0m\n\u001b[1;37m    ^\u001b[0m\n\u001b[1;31mSyntaxError\u001b[0m\u001b[1;31m:\u001b[0m cannot assign to expression here. Maybe you meant '==' instead of '='?\n"
     ]
    }
   ],
   "source": [
    "_@gnm=345\n",
    "print(_@gnm)"
   ]
  },
  {
   "cell_type": "code",
   "execution_count": null,
   "id": "bc9cb9bd-90fc-4d2d-8d52-50bdfd9b3c76",
   "metadata": {},
   "outputs": [],
   "source": [
    "#"
   ]
  },
  {
   "cell_type": "code",
   "execution_count": 98,
   "id": "d0d31db9-e720-4b77-a8f8-ee3576c8a66f",
   "metadata": {},
   "outputs": [
    {
     "ename": "SyntaxError",
     "evalue": "cannot assign to literal here. Maybe you meant '==' instead of '='? (1816988149.py, line 1)",
     "output_type": "error",
     "traceback": [
      "\u001b[1;36m  Cell \u001b[1;32mIn[98], line 1\u001b[1;36m\u001b[0m\n\u001b[1;33m    1=23\u001b[0m\n\u001b[1;37m    ^\u001b[0m\n\u001b[1;31mSyntaxError\u001b[0m\u001b[1;31m:\u001b[0m cannot assign to literal here. Maybe you meant '==' instead of '='?\n"
     ]
    }
   ],
   "source": [
    "1=23\n",
    "print(1)"
   ]
  },
  {
   "cell_type": "code",
   "execution_count": 114,
   "id": "9e9ea9d1-0e1c-44a4-ac75-bd6a1bea7f81",
   "metadata": {},
   "outputs": [
    {
     "ename": "SyntaxError",
     "evalue": "invalid syntax (2710731866.py, line 1)",
     "output_type": "error",
     "traceback": [
      "\u001b[1;36m  Cell \u001b[1;32mIn[114], line 1\u001b[1;36m\u001b[0m\n\u001b[1;33m    =234(\"\")\u001b[0m\n\u001b[1;37m    ^\u001b[0m\n\u001b[1;31mSyntaxError\u001b[0m\u001b[1;31m:\u001b[0m invalid syntax\n"
     ]
    }
   ],
   "source": [
    ";=234\n",
    "print(;)"
   ]
  },
  {
   "cell_type": "code",
   "execution_count": 129,
   "id": "a73b09b6-9cd4-4f3e-9a26-7aa112671e37",
   "metadata": {},
   "outputs": [
    {
     "ename": "SyntaxError",
     "evalue": "invalid syntax (1813738500.py, line 1)",
     "output_type": "error",
     "traceback": [
      "\u001b[1;36m  Cell \u001b[1;32mIn[129], line 1\u001b[1;36m\u001b[0m\n\u001b[1;33m    @=34\u001b[0m\n\u001b[1;37m    ^\u001b[0m\n\u001b[1;31mSyntaxError\u001b[0m\u001b[1;31m:\u001b[0m invalid syntax\n"
     ]
    }
   ],
   "source": [
    "@=34\n",
    "print(@)"
   ]
  },
  {
   "cell_type": "code",
   "execution_count": null,
   "id": "04badbda-6f57-424d-8e76-c679acaabbd0",
   "metadata": {},
   "outputs": [],
   "source": []
  }
 ],
 "metadata": {
  "kernelspec": {
   "display_name": "Python 3 (ipykernel)",
   "language": "python",
   "name": "python3"
  },
  "language_info": {
   "codemirror_mode": {
    "name": "ipython",
    "version": 3
   },
   "file_extension": ".py",
   "mimetype": "text/x-python",
   "name": "python",
   "nbconvert_exporter": "python",
   "pygments_lexer": "ipython3",
   "version": "3.12.4"
  }
 },
 "nbformat": 4,
 "nbformat_minor": 5
}
