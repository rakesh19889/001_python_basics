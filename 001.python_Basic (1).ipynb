{
 "cells": [
  {
   "cell_type": "markdown",
   "id": "2f630641-29fc-4dc8-a625-52474c5a9d8f",
   "metadata": {},
   "source": [
    "# What is Python?\n",
    "1)Python is a set of instructions that we give in the form of a Program to our computer to perform any specific task. It is a Programming language having properties like it is interpreted, object-oriented and it is high-level too.\n",
    "\n",
    "2)Python is one of the easiest yet most useful programming languages which is widely used in the software industry. People use Python for Competitive Programming, Web Development, and creating software.\n"
   ]
  },
  {
   "cell_type": "markdown",
   "id": "d0250209-8337-487d-90ab-a48684265e04",
   "metadata": {},
   "source": [
    "# History of Python?\n",
    "\n",
    "*Python was created in 1980s by Guido van Rossum. During his research at the National Research Institute for Mathematics and Computer Science in the Netherlands.he created Python – a super easy programming language in terms of reading and usage. The first ever version was released in the year 1991 which had only a few built-in data types and basic functionality.*\n",
    "\n",
    "*Later, when it gained popularity among scientists for numerical computations and data analysis, in 1994, Python 1.0 was released with extra features like map, lambda, and filter functions. After that adding new functionalities and releasing newer versions of Python came into fashion.* \n",
    "\n",
    "*Python 1.5 released in 1997*\n",
    "\n",
    "*Python 2.0 released in 2000*\n",
    "\n",
    "*Python 3.0 in 2008 brought newer functionalities*"
   ]
  },
  {
   "cell_type": "markdown",
   "id": "989b9332-206d-4ae8-969d-04caf416d11c",
   "metadata": {},
   "source": [
    "# Why Python?\n",
    "\r\n",
    "Python works on different platforms (Windows, Mac, Linux, Raspberry Pi, etc)\n",
    "\n",
    "\r\n",
    "Python has a simple syntax similar to the English languag \n",
    "\n",
    ".\r\n",
    "Python has syntax that allows developers to write programs with fewer lines than some other programming languages.asier."
   ]
  },
  {
   "cell_type": "markdown",
   "id": "23159686-af84-44cd-a3b6-8920e6d4a022",
   "metadata": {},
   "source": [
    "# comment with example"
   ]
  },
  {
   "cell_type": "code",
   "execution_count": 72,
   "id": "e36fe09d-bb77-4819-a0b4-5abfb3308559",
   "metadata": {},
   "outputs": [],
   "source": [
    "# This is rakesh \n"
   ]
  },
  {
   "cell_type": "markdown",
   "id": "8f1aadb5-e274-48c9-8390-1161c7e65ffa",
   "metadata": {},
   "source": [
    "# keywords with example"
   ]
  },
  {
   "cell_type": "code",
   "execution_count": 7,
   "id": "81e7976f-ab9a-43c3-8739-bac1892bcd2a",
   "metadata": {},
   "outputs": [
    {
     "name": "stdout",
     "output_type": "stream",
     "text": [
      "['False', 'None', 'True', 'and', 'as', 'assert', 'async', 'await', 'break', 'class', 'continue', 'def', 'del', 'elif', 'else', 'except', 'finally', 'for', 'from', 'global', 'if', 'import', 'in', 'is', 'lambda', 'nonlocal', 'not', 'or', 'pass', 'raise', 'return', 'try', 'while', 'with', 'yield']\n"
     ]
    }
   ],
   "source": [
    "import keyword\n",
    "print(keyword. kwlist)"
   ]
  },
  {
   "cell_type": "code",
   "execution_count": 78,
   "id": "65fd7066-9ed5-4c16-a852-a4fa2f3858fb",
   "metadata": {},
   "outputs": [
    {
     "name": "stdout",
     "output_type": "stream",
     "text": [
      "\n",
      "Here is a list of the Python keywords.  Enter any keyword to get more help.\n",
      "\n",
      "False               class               from                or\n",
      "None                continue            global              pass\n",
      "True                def                 if                  raise\n",
      "and                 del                 import              return\n",
      "as                  elif                in                  try\n",
      "assert              else                is                  while\n",
      "async               except              lambda              with\n",
      "await               finally             nonlocal            yield\n",
      "break               for                 not                 \n",
      "\n"
     ]
    }
   ],
   "source": [
    "help(\"keywords\")"
   ]
  },
  {
   "cell_type": "code",
   "execution_count": 80,
   "id": "41a2bd62-68f9-4e97-a408-47b24c6d219d",
   "metadata": {},
   "outputs": [
    {
     "name": "stdout",
     "output_type": "stream",
     "text": [
      "True\n",
      "False\n"
     ]
    }
   ],
   "source": [
    "import keyword\n",
    "\n",
    "print(keyword.iskeyword('if'))\n",
    "print(keyword.iskeyword('range'))"
   ]
  },
  {
   "cell_type": "code",
   "execution_count": 82,
   "id": "6cd3ea1c-f0ac-4817-b2d4-471ac80729b7",
   "metadata": {},
   "outputs": [
    {
     "name": "stdout",
     "output_type": "stream",
     "text": [
      "The \"if\" statement\n",
      "******************\n",
      "\n",
      "The \"if\" statement is used for conditional execution:\n",
      "\n",
      "   if_stmt ::= \"if\" assignment_expression \":\" suite\n",
      "               (\"elif\" assignment_expression \":\" suite)*\n",
      "               [\"else\" \":\" suite]\n",
      "\n",
      "It selects exactly one of the suites by evaluating the expressions one\n",
      "by one until one is found to be true (see section Boolean operations\n",
      "for the definition of true and false); then that suite is executed\n",
      "(and no other part of the \"if\" statement is executed or evaluated).\n",
      "If all expressions are false, the suite of the \"else\" clause, if\n",
      "present, is executed.\n",
      "\n",
      "Related help topics: TRUTHVALUE\n",
      "\n",
      "None\n"
     ]
    }
   ],
   "source": [
    "print(help('if'))"
   ]
  },
  {
   "cell_type": "markdown",
   "id": "3ad335cd-3ef7-433c-82d9-05c108300923",
   "metadata": {
    "jp-MarkdownHeadingCollapsed": true
   },
   "source": [
    "# Rules\n",
    "- AlaphaNum Characters{A-Z,a-z,0-9}\n",
    "- can't use digits at starting\n",
    "- can't use special to variables, expect'_'\n",
    "- can't use Keywords\n",
    "- case sentiments"
   ]
  },
  {
   "cell_type": "markdown",
   "id": "b8c07454-0a75-45d8-914f-98678219f07b",
   "metadata": {},
   "source": [
    "# Variables\n",
    "### Valid Examples"
   ]
  },
  {
   "cell_type": "code",
   "execution_count": 87,
   "id": "1c331972-42e4-438e-b8cf-6f91b975f59a",
   "metadata": {},
   "outputs": [
    {
     "name": "stdout",
     "output_type": "stream",
     "text": [
      "2\n"
     ]
    }
   ],
   "source": [
    "a=2\n",
    "print(a)"
   ]
  },
  {
   "cell_type": "code",
   "execution_count": 89,
   "id": "2aff3f36-36ee-4a63-8585-c53714f85693",
   "metadata": {},
   "outputs": [
    {
     "name": "stdout",
     "output_type": "stream",
     "text": [
      "23\n"
     ]
    }
   ],
   "source": [
    "var=23\n",
    "print(var)"
   ]
  },
  {
   "cell_type": "code",
   "execution_count": 91,
   "id": "e3038928-71bb-4f63-8443-ca834944c70a",
   "metadata": {},
   "outputs": [
    {
     "name": "stdout",
     "output_type": "stream",
     "text": [
      "654\n"
     ]
    }
   ],
   "source": [
    "_acb=654\n",
    "print(_acb)"
   ]
  },
  {
   "cell_type": "code",
   "execution_count": 94,
   "id": "6e48a6c0-0afc-4298-bb2e-12c77685221e",
   "metadata": {
    "scrolled": true
   },
   "outputs": [
    {
     "name": "stdout",
     "output_type": "stream",
     "text": [
      "123\n"
     ]
    }
   ],
   "source": [
    "IF=123\n",
    "print(IF)"
   ]
  },
  {
   "cell_type": "code",
   "execution_count": 96,
   "id": "d72d6274-772d-492d-8702-ca251860a515",
   "metadata": {},
   "outputs": [
    {
     "name": "stdout",
     "output_type": "stream",
     "text": [
      "123\n"
     ]
    }
   ],
   "source": [
    "If=123\n",
    "print(If)"
   ]
  },
  {
   "cell_type": "code",
   "execution_count": 104,
   "id": "9229e9b5-5ae1-4925-a728-a2fe95b09edc",
   "metadata": {},
   "outputs": [
    {
     "name": "stdout",
     "output_type": "stream",
     "text": [
      "123\n"
     ]
    }
   ],
   "source": [
    "Ture=123\n",
    "print(Ture)"
   ]
  },
  {
   "cell_type": "code",
   "execution_count": 106,
   "id": "5a5509df-1fc0-4289-96a4-3989d0ec547a",
   "metadata": {},
   "outputs": [
    {
     "name": "stdout",
     "output_type": "stream",
     "text": [
      "890\n"
     ]
    }
   ],
   "source": [
    "a123=890\n",
    "print(a123)"
   ]
  },
  {
   "cell_type": "code",
   "execution_count": 108,
   "id": "f7a79b4b-0a04-4c8f-abe0-773d3cc19016",
   "metadata": {},
   "outputs": [
    {
     "name": "stdout",
     "output_type": "stream",
     "text": [
      "456\n"
     ]
    }
   ],
   "source": [
    "bv_1=456\n",
    "print(bv_1)"
   ]
  },
  {
   "cell_type": "code",
   "execution_count": 116,
   "id": "482c25ff-edcb-48de-95ec-4526c730eaff",
   "metadata": {},
   "outputs": [
    {
     "name": "stdout",
     "output_type": "stream",
     "text": [
      "456\n"
     ]
    }
   ],
   "source": [
    "boolen=456\n",
    "print(boolen)"
   ]
  },
  {
   "cell_type": "code",
   "execution_count": 121,
   "id": "dd26af43-d50f-4ca3-bf87-c45e1c722614",
   "metadata": {},
   "outputs": [
    {
     "name": "stdout",
     "output_type": "stream",
     "text": [
      "456\n"
     ]
    }
   ],
   "source": [
    "ture=456\n",
    "print(boolen)"
   ]
  },
  {
   "cell_type": "code",
   "execution_count": null,
   "id": "be5a56e1-9a56-44a5-ad30-26e9a33834e9",
   "metadata": {},
   "outputs": [],
   "source": []
  },
  {
   "cell_type": "markdown",
   "id": "899906de-86bb-44c8-8b4f-c7c9e4adbff6",
   "metadata": {},
   "source": [
    "### Invalid Examples"
   ]
  },
  {
   "cell_type": "code",
   "execution_count": 112,
   "id": "73c5fa0e-4fb0-4519-972c-e0502fb78fc8",
   "metadata": {},
   "outputs": [
    {
     "ename": "SyntaxError",
     "evalue": "invalid syntax (68666159.py, line 1)",
     "output_type": "error",
     "traceback": [
      "\u001b[1;36m  Cell \u001b[1;32mIn[112], line 1\u001b[1;36m\u001b[0m\n\u001b[1;33m    if=234\u001b[0m\n\u001b[1;37m      ^\u001b[0m\n\u001b[1;31mSyntaxError\u001b[0m\u001b[1;31m:\u001b[0m invalid syntax\n"
     ]
    }
   ],
   "source": [
    "if=234\n",
    "print(if)"
   ]
  },
  {
   "cell_type": "code",
   "execution_count": 110,
   "id": "69b3c89a-910f-49f3-9cba-b7514545e2f6",
   "metadata": {},
   "outputs": [
    {
     "ename": "SyntaxError",
     "evalue": "cannot assign to expression here. Maybe you meant '==' instead of '='? (799495340.py, line 1)",
     "output_type": "error",
     "traceback": [
      "\u001b[1;36m  Cell \u001b[1;32mIn[110], line 1\u001b[1;36m\u001b[0m\n\u001b[1;33m    _@gnm=345\u001b[0m\n\u001b[1;37m    ^\u001b[0m\n\u001b[1;31mSyntaxError\u001b[0m\u001b[1;31m:\u001b[0m cannot assign to expression here. Maybe you meant '==' instead of '='?\n"
     ]
    }
   ],
   "source": [
    "_@gnm=345\n",
    "print(_@gnm)"
   ]
  },
  {
   "cell_type": "code",
   "execution_count": null,
   "id": "bc9cb9bd-90fc-4d2d-8d52-50bdfd9b3c76",
   "metadata": {},
   "outputs": [],
   "source": [
    "#"
   ]
  },
  {
   "cell_type": "code",
   "execution_count": 98,
   "id": "d0d31db9-e720-4b77-a8f8-ee3576c8a66f",
   "metadata": {},
   "outputs": [
    {
     "ename": "SyntaxError",
     "evalue": "cannot assign to literal here. Maybe you meant '==' instead of '='? (1816988149.py, line 1)",
     "output_type": "error",
     "traceback": [
      "\u001b[1;36m  Cell \u001b[1;32mIn[98], line 1\u001b[1;36m\u001b[0m\n\u001b[1;33m    1=23\u001b[0m\n\u001b[1;37m    ^\u001b[0m\n\u001b[1;31mSyntaxError\u001b[0m\u001b[1;31m:\u001b[0m cannot assign to literal here. Maybe you meant '==' instead of '='?\n"
     ]
    }
   ],
   "source": [
    "1=23\n",
    "print(1)"
   ]
  },
  {
   "cell_type": "code",
   "execution_count": 114,
   "id": "9e9ea9d1-0e1c-44a4-ac75-bd6a1bea7f81",
   "metadata": {},
   "outputs": [
    {
     "ename": "SyntaxError",
     "evalue": "invalid syntax (2710731866.py, line 1)",
     "output_type": "error",
     "traceback": [
      "\u001b[1;36m  Cell \u001b[1;32mIn[114], line 1\u001b[1;36m\u001b[0m\n\u001b[1;33m    =234(\"\")\u001b[0m\n\u001b[1;37m    ^\u001b[0m\n\u001b[1;31mSyntaxError\u001b[0m\u001b[1;31m:\u001b[0m invalid syntax\n"
     ]
    }
   ],
   "source": [
    ";=234\n",
    "print(;)"
   ]
  },
  {
   "cell_type": "code",
   "execution_count": 129,
   "id": "a73b09b6-9cd4-4f3e-9a26-7aa112671e37",
   "metadata": {},
   "outputs": [
    {
     "ename": "SyntaxError",
     "evalue": "invalid syntax (1813738500.py, line 1)",
     "output_type": "error",
     "traceback": [
      "\u001b[1;36m  Cell \u001b[1;32mIn[129], line 1\u001b[1;36m\u001b[0m\n\u001b[1;33m    @=34\u001b[0m\n\u001b[1;37m    ^\u001b[0m\n\u001b[1;31mSyntaxError\u001b[0m\u001b[1;31m:\u001b[0m invalid syntax\n"
     ]
    }
   ],
   "source": [
    "@=34\n",
    "print(@)"
   ]
  },
  {
   "cell_type": "code",
   "execution_count": 9,
   "id": "04badbda-6f57-424d-8e76-c679acaabbd0",
   "metadata": {},
   "outputs": [
    {
     "name": "stdout",
     "output_type": "stream",
     "text": [
      "23\n"
     ]
    }
   ],
   "source": [
    "_=23\n",
    "print(_)"
   ]
  },
  {
   "cell_type": "markdown",
   "id": "e1e1709b-6550-4202-ba72-8eea7f0df72c",
   "metadata": {},
   "source": [
    "###  24-02-25"
   ]
  },
  {
   "cell_type": "markdown",
   "id": "b6763fe8-0dec-42f0-81c0-a32a567f35d6",
   "metadata": {},
   "source": [
    "# Data type\n",
    "- In programming, data type is an important concept. Variables can store data of different types, and different types can do different things. Python has the following data types built-in by default, in these categories: You can get the data type of any object by using the type() function: Print the data type of the variable x\n",
    "### Basics          \n",
    "- Int                 \n",
    "- float                   \n",
    "- complex                 \n",
    "- boolean                 \n",
    "- character\n",
    "  ### Adv\n",
    "- list\n",
    "- string\n",
    "- tuple\n",
    "- dictnary\n",
    "- set          "
   ]
  },
  {
   "cell_type": "markdown",
   "id": "310340d7-f3ed-480e-8aa9-44d6944fba55",
   "metadata": {},
   "source": [
    "## int\n",
    "- negtive infinte to postive infinte incuding '0'."
   ]
  },
  {
   "cell_type": "code",
   "execution_count": 6,
   "id": "859d01a3-a215-476a-8c25-8660be6545d2",
   "metadata": {},
   "outputs": [
    {
     "name": "stdout",
     "output_type": "stream",
     "text": [
      "2\n"
     ]
    }
   ],
   "source": [
    "a = 2\n",
    "print(a)"
   ]
  },
  {
   "cell_type": "code",
   "execution_count": 8,
   "id": "7c4a07c7-24a8-4c12-a096-42373736d1f4",
   "metadata": {},
   "outputs": [
    {
     "name": "stdout",
     "output_type": "stream",
     "text": [
      "-2\n"
     ]
    }
   ],
   "source": [
    "b=-2\n",
    "print(b)"
   ]
  },
  {
   "cell_type": "code",
   "execution_count": 14,
   "id": "e5a3683e-9ff2-46b8-a88d-f8a9d27fc5d0",
   "metadata": {},
   "outputs": [
    {
     "name": "stdout",
     "output_type": "stream",
     "text": [
      "-1\n",
      "71\n",
      "25\n",
      "771\n",
      "6754\n",
      "200\n"
     ]
    }
   ],
   "source": [
    "er =  -1\n",
    "print(er)\n",
    "\n",
    "Rak = -4 + 75\n",
    "print(Rak)\n",
    "\n",
    "r = 5 * 5\n",
    "print(r)\n",
    "\n",
    "P = 9 + 762\n",
    "print(P)\n",
    "\n",
    "s = 6754\n",
    "print(s)\n",
    "\n",
    "by = 8 * 5 * 5\n",
    "print(by)"
   ]
  },
  {
   "cell_type": "markdown",
   "id": "51536219-97bd-4401-a81b-ea40e5215454",
   "metadata": {},
   "source": [
    "## float\n",
    "All decimals values"
   ]
  },
  {
   "cell_type": "code",
   "execution_count": 19,
   "id": "3d3d8573-dde0-4d6e-8dd6-5b600b322352",
   "metadata": {},
   "outputs": [
    {
     "name": "stdout",
     "output_type": "stream",
     "text": [
      "2.5\n",
      "-2.98\n",
      "-1.43\n",
      "71.53099999999999\n",
      "28.27\n",
      "771.6543\n",
      "6754.87\n",
      "288.44928\n"
     ]
    }
   ],
   "source": [
    "a = 2.5\n",
    "print(a)\n",
    "\n",
    "b=-2.98\n",
    "print(b)\n",
    "\n",
    "er =  -1.43\n",
    "print(er)\n",
    "\n",
    "Rak = -4.456 + 75.987\n",
    "print(Rak)\n",
    "\n",
    "r = 5 * 5.654\n",
    "print(r)\n",
    "\n",
    "P = 9.6543 + 762\n",
    "print(P)\n",
    "\n",
    "s = 6754.87\n",
    "print(s)\n",
    "\n",
    "by = 8.76 * 5.88 * 5.6\n",
    "print(by)"
   ]
  },
  {
   "cell_type": "markdown",
   "id": "54857800-762e-478d-96bf-c2cca90fa57d",
   "metadata": {},
   "source": [
    "## Complex\n",
    "- real numbers & imaginary numbers.\n",
    "- imaginary numbers are defined as (j)."
   ]
  },
  {
   "cell_type": "code",
   "execution_count": 24,
   "id": "c7a536ce-6f2a-4db8-b31f-40200d7f27ef",
   "metadata": {},
   "outputs": [
    {
     "name": "stdout",
     "output_type": "stream",
     "text": [
      "2.5j\n",
      "(-0-2.98j)\n",
      "(-0-1.43j)\n",
      "(-4.456+75.987j)\n",
      "28.27j\n",
      "(9.6543+762j)\n",
      "6754.87j\n",
      "288.44928j\n"
     ]
    }
   ],
   "source": [
    "a = 2.5j\n",
    "print(a)\n",
    "\n",
    "b=-2.98j\n",
    "print(b)\n",
    "\n",
    "er =  -1.43j\n",
    "print(er)\n",
    "\n",
    "Rak = -4.456 + 75.987j\n",
    "print(Rak)\n",
    "\n",
    "r = 5j * 5.654\n",
    "print(r)\n",
    "\n",
    "P = 9.6543 + 762j\n",
    "print(P)\n",
    "\n",
    "s = 6754.87j\n",
    "print(s)\n",
    "\n",
    "by = 8.76 * 5.88j * 5.6\n",
    "print(by)"
   ]
  },
  {
   "cell_type": "markdown",
   "id": "8c4900e7-5244-4777-976e-415aa224d8b6",
   "metadata": {},
   "source": [
    "## Boolean\n",
    "- True or Flase"
   ]
  },
  {
   "cell_type": "code",
   "execution_count": 29,
   "id": "5f8d0589-a3e9-482e-89a5-8a29f29a7dd6",
   "metadata": {},
   "outputs": [
    {
     "name": "stdout",
     "output_type": "stream",
     "text": [
      "False\n",
      "True\n",
      "False\n",
      "False\n",
      "False\n",
      "False\n",
      "False\n",
      "True\n"
     ]
    }
   ],
   "source": [
    "print(9 < 5)\n",
    "\n",
    "print(29 > 12)\n",
    "\n",
    "print(66 <= 33)\n",
    "\n",
    "print(66 - 33 <= 31)\n",
    "\n",
    "print(987 <= 543)\n",
    "\n",
    "print(6543 * 2654 < 9876)\n",
    "\n",
    "print(565656 == 76544)\n",
    "\n",
    "print(4378 < 98252)\n"
   ]
  },
  {
   "cell_type": "markdown",
   "id": "9a2d07db-bb6f-4192-8490-6877c8c8cf1f",
   "metadata": {},
   "source": [
    "## Char\n",
    "- we use (\"_\"), ('_').\n",
    "- char is used for alphabets and strings."
   ]
  },
  {
   "cell_type": "code",
   "execution_count": 38,
   "id": "fb307b4c-d492-4220-8492-e2e4eea28f29",
   "metadata": {},
   "outputs": [
    {
     "name": "stdout",
     "output_type": "stream",
     "text": [
      "ravi\n",
      "riya\n",
      "text\n",
      "is\n",
      "vrfyj\n",
      "buubgz\n",
      "nkjuctyc\n",
      "hgyc\n",
      "rakesh\n",
      "liki\n"
     ]
    }
   ],
   "source": [
    "a = 'ravi'\n",
    "print(a)\n",
    "\n",
    "b = \"riya\"\n",
    "print(b)\n",
    "\n",
    "c = \"text\"\n",
    "print(c)\n",
    "\n",
    "d = \"is\"\n",
    "print(d)\n",
    "\n",
    "e = \"vrfyj\"\n",
    "print(e)\n",
    "\n",
    "f = \"buubgz\"\n",
    "print(f)\n",
    "\n",
    "g = \"nkjuctyc\"\n",
    "print(g)\n",
    "\n",
    "h = \"hgyc\"\n",
    "print(h)\n",
    "\n",
    "i = \"rakesh\"\n",
    "print(i)\n",
    "\n",
    "j = \"liki\"\n",
    "print(j)"
   ]
  },
  {
   "cell_type": "markdown",
   "id": "885e17a1-a99b-42fd-9de7-427999abbc7a",
   "metadata": {},
   "source": [
    "## Type() Function\n",
    "- it tells the which type funtion as used code."
   ]
  },
  {
   "cell_type": "code",
   "execution_count": 41,
   "id": "522bb858-a27c-4f0a-b467-93008f28e49b",
   "metadata": {},
   "outputs": [
    {
     "name": "stdout",
     "output_type": "stream",
     "text": [
      "<class 'int'>\n"
     ]
    }
   ],
   "source": [
    "print(type(1))"
   ]
  },
  {
   "cell_type": "code",
   "execution_count": 43,
   "id": "0b850b54-fdb1-40d4-ac40-f6ecd78cca46",
   "metadata": {},
   "outputs": [
    {
     "name": "stdout",
     "output_type": "stream",
     "text": [
      "<class 'float'>\n"
     ]
    }
   ],
   "source": [
    "print(type(1.1))"
   ]
  },
  {
   "cell_type": "code",
   "execution_count": 45,
   "id": "a1b7eb0a-5c02-46ad-83a4-5fb4b0c4b7a5",
   "metadata": {},
   "outputs": [
    {
     "name": "stdout",
     "output_type": "stream",
     "text": [
      "<class 'complex'>\n"
     ]
    }
   ],
   "source": [
    "print(type(1j))"
   ]
  },
  {
   "cell_type": "code",
   "execution_count": 47,
   "id": "9e5c6204-03ce-4b26-9fb7-116654d6bc1c",
   "metadata": {},
   "outputs": [
    {
     "name": "stdout",
     "output_type": "stream",
     "text": [
      "<class 'bool'>\n"
     ]
    }
   ],
   "source": [
    "print(type(1>0.5))"
   ]
  },
  {
   "cell_type": "code",
   "execution_count": 51,
   "id": "dbda7676-dc5c-4b5c-8046-68c89beae08b",
   "metadata": {},
   "outputs": [
    {
     "name": "stdout",
     "output_type": "stream",
     "text": [
      "<class 'str'>\n"
     ]
    }
   ],
   "source": [
    "print(type(\"rakesh\"))"
   ]
  },
  {
   "cell_type": "code",
   "execution_count": 57,
   "id": "5f439aba-51b9-4d40-bc6d-4c76ae8abb8d",
   "metadata": {},
   "outputs": [
    {
     "name": "stdout",
     "output_type": "stream",
     "text": [
      "<class 'int'>\n"
     ]
    }
   ],
   "source": [
    "print(type(456))"
   ]
  },
  {
   "cell_type": "code",
   "execution_count": null,
   "id": "027fc7bd-d416-42cf-aafb-6908f10c7a29",
   "metadata": {},
   "outputs": [],
   "source": []
  }
 ],
 "metadata": {
  "kernelspec": {
   "display_name": "Python 3 (ipykernel)",
   "language": "python",
   "name": "python3"
  },
  "language_info": {
   "codemirror_mode": {
    "name": "ipython",
    "version": 3
   },
   "file_extension": ".py",
   "mimetype": "text/x-python",
   "name": "python",
   "nbconvert_exporter": "python",
   "pygments_lexer": "ipython3",
   "version": "3.12.4"
  }
 },
 "nbformat": 4,
 "nbformat_minor": 5
}
